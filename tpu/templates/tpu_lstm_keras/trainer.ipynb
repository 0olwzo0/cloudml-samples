{
 "cells": [
  {
   "cell_type": "code",
   "execution_count": null,
   "metadata": {},
   "outputs": [],
   "source": [
    "#\n",
    "# Licensed under the Apache License, Version 2.0 (the \"License\");\n",
    "# you may not use this file except in compliance with the License.\n",
    "# You may obtain a copy of the License at\n",
    "#\n",
    "#     http://www.apache.org/licenses/LICENSE-2.0\n",
    "#\n",
    "# Unless required by applicable law or agreed to in writing, software\n",
    "# distributed under the License is distributed on an \"AS IS\" BASIS,\n",
    "# WITHOUT WARRANTIES OR CONDITIONS OF ANY KIND, either express or implied.\n",
    "# See the License for the specific language governing permissions and\n",
    "# limitations under the License."
   ]
  },
  {
   "cell_type": "code",
   "execution_count": null,
   "metadata": {},
   "outputs": [],
   "source": [
    "import argparse\n",
    "import os\n",
    "import numpy as np\n",
    "import tensorflow as tf\n",
    "from tensorflow.keras.layers import LSTM"
   ]
  },
  {
   "cell_type": "code",
   "execution_count": null,
   "metadata": {},
   "outputs": [],
   "source": [
    "def build_model():\n",
    "    inputs = tf.keras.Input(shape=(5, 3))\n",
    "    encoded = tf.keras.layers.LSTM(10)(inputs)\n",
    "    outputs = tf.keras.layers.Dense(1, activation=tf.nn.sigmoid)(encoded)\n",
    "\n",
    "    model = tf.keras.Model(inputs=inputs, outputs=outputs)\n",
    "\n",
    "    return model\n",
    "\n",
    "\n"
   ]
  },
  {
   "cell_type": "code",
   "execution_count": null,
   "metadata": {},
   "outputs": [],
   "source": [
    "def make_data():\n",
    "    data_size = 100\n",
    "    sequences = np.random.random((data_size, 5, 3))\n",
    "    labels = np.random.randint(0, 2, size=(data_size,))\n",
    "\n",
    "    return sequences, labels\n",
    "\n",
    "\n"
   ]
  },
  {
   "cell_type": "code",
   "execution_count": null,
   "metadata": {},
   "outputs": [],
   "source": [
    "def main(args):\n",
    "    model = build_model()\n",
    "\n",
    "    if args.use_tpu:\n",
    "        # distribute over TPU cores\n",
    "        # Note: only in TensorFlow 1.10+\n",
    "        strategy = tf.contrib.tpu.TPUDistributionStrategy(num_cores_per_host=8)\n",
    "        model = tf.contrib.tpu.keras_to_tpu_model(\n",
    "            model, strategy=strategy, tpu_name_or_address=args.tpu)\n",
    "\n",
    "    optimizer = tf.train.RMSPropOptimizer(learning_rate=0.05)\n",
    "    loss_fn = tf.losses.log_loss\n",
    "    model.compile(optimizer, loss_fn)\n",
    "\n",
    "    sequences, labels = make_data()\n",
    "\n",
    "    model.fit(sequences, labels, epochs=3)\n",
    "\n",
    "    if not os.path.exists(args.model_dir):\n",
    "        os.makedirs(args.model_dir)\n",
    "    model.save(os.path.join(args.model_dir, 'model.hd5'))\n",
    "\n",
    "\n"
   ]
  },
  {
   "cell_type": "code",
   "execution_count": null,
   "metadata": {},
   "outputs": [],
   "source": [
    "parser = argparse.ArgumentParser()\n",
    "\n",
    "    \n",
    "parser.add_argument(\n",
    "        '--model-dir',\n",
    "        type=str,\n",
    "        default='/tmp/tpu-template'\n",
    "    )\n",
    "parser.add_argument(\n",
    "        '--use-tpu',\n",
    "        action='store_true'\n",
    "    )\n",
    "parser.add_argument(\n",
    "        '--tpu',\n",
    "        default=None\n",
    "    )\n",
    "\n",
    "    \n",
    "args, _ = parser.parse_known_args()\n",
    "\n",
    "    \n",
    "# # Uncomment to use TPU on colab.research.google.com\n",
    "\n",
    "    \n",
    "# import os\n",
    "# args.tpu = 'grpc://{}'.format(os.environ['COLAB_TPU_ADDR'])\n",
    "# args.use_tpu = True\n",
    "# args.model_dir = 'gs://your-gcs-bucket'\n",
    "\n",
    "    \n",
    "# # Authenticate to access GCS bucket\n",
    "# from google.colab import auth\n",
    "# auth.authenticate_user()\n",
    "\n",
    "    \n",
    "main(args)"
   ]
  }
 ],
 "metadata": {},
 "nbformat": 4,
 "nbformat_minor": 2
}
